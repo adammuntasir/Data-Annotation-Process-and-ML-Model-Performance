{
  "cells": [
    {
      "cell_type": "code",
      "execution_count": null,
      "metadata": {
        "colab": {
          "base_uri": "https://localhost:8080/"
        },
        "outputId": "a5274443-5ba0-4ba8-e613-25db3ae0c480",
        "id": "U8kMVn1ajp_S"
      },
      "outputs": [
        {
          "output_type": "stream",
          "name": "stdout",
          "text": [
            "Cloning into 'darknet'...\n",
            "remote: Enumerating objects: 15521, done.\u001b[K\n",
            "remote: Counting objects: 100% (7/7), done.\u001b[K\n",
            "remote: Compressing objects: 100% (7/7), done.\u001b[K\n",
            "remote: Total 15521 (delta 0), reused 5 (delta 0), pack-reused 15514\u001b[K\n",
            "Receiving objects: 100% (15521/15521), 14.19 MiB | 20.50 MiB/s, done.\n",
            "Resolving deltas: 100% (10412/10412), done.\n"
          ]
        }
      ],
      "source": [
        "# Clone the Darknet repository from GitHub\n",
        "!git clone https://github.com/AlexeyAB/darknet.git\n",
        "\n",
        "# Please refer to the repository documentation for further instructions and usage details:\n",
        "# https://github.com/AlexeyAB/darknet#how-to-train-to-detect-your-custom-objects"
      ]
    },
    {
      "cell_type": "code",
      "execution_count": null,
      "metadata": {
        "id": "OlGpl7Hrjp_U"
      },
      "outputs": [],
      "source": [
        "# Importing the necessary library 'drive' from the package 'google.colab'\n",
        "from google.colab import drive\n",
        "\n",
        "# Mounting the Google Drive to the Colab runtime\n",
        "# This allows access to files and directories in the Google Drive\n",
        "drive.mount('/content/gdrive')"
      ]
    },
    {
      "cell_type": "code",
      "execution_count": null,
      "metadata": {
        "id": "UwmvETZAjp_V"
      },
      "outputs": [],
      "source": [
        "#This line of code installs the FiftyOne library using pip.\n",
        "#FiftyOne is a Python package that provides interactive exploration, analysis, and visualization of datasets for computer vision tasks.\n",
        "!pip install fiftyone"
      ]
    },
    {
      "cell_type": "code",
      "execution_count": null,
      "metadata": {
        "id": "UOHI2Vq3jp_V"
      },
      "outputs": [],
      "source": [
        "import random  # Importing the random module for generating random numbers\n",
        "import fiftyone as fo  # Importing the fiftyone library for working with datasets and models\n",
        "import fiftyone.zoo as foz  # Importing the fiftyone.zoo module for accessing pre-trained models\n",
        "from fiftyone import ViewField as F  # Importing the ViewField class from the fiftyone module"
      ]
    },
    {
      "cell_type": "code",
      "execution_count": null,
      "metadata": {
        "id": "jqh7gxPjjp_W"
      },
      "outputs": [],
      "source": [
        "# Define a list of all COCO classes for object relabeling\n",
        "'''\n",
        "relabeling_classes = [\n",
        "    \"person\", \"bicycle\", \"car\", \"motorcycle\", \"airplane\", \"bus\", \"train\",\n",
        "    \"truck\", \"boat\", \"traffic light\", \"fire hydrant\", \"stop sign\",\n",
        "    \"parking meter\", \"bench\", \"bird\", \"cat\", \"dog\", \"horse\", \"sheep\",\n",
        "    \"cow\", \"elephant\", \"bear\", \"zebra\", \"giraffe\", \"backpack\", \"umbrella\",\n",
        "    \"handbag\", \"tie\", \"suitcase\", \"frisbee\", \"skis\", \"snowboard\", \"sports ball\",\n",
        "    \"kite\", \"baseball bat\", \"baseball glove\", \"skateboard\", \"surfboard\",\n",
        "    \"tennis racket\", \"bottle\", \"wine glass\", \"cup\", \"fork\", \"knife\", \"spoon\",\n",
        "    \"bowl\", \"banana\", \"apple\", \"sandwich\", \"orange\", \"broccoli\", \"carrot\",\n",
        "    \"hot dog\", \"pizza\", \"donut\", \"cake\", \"chair\", \"couch\", \"potted plant\",\n",
        "    \"bed\", \"dining table\", \"toilet\", \"tv\", \"laptop\", \"mouse\", \"remote\",\n",
        "    \"keyboard\", \"cell phone\", \"microwave\", \"oven\", \"toaster\", \"sink\",\n",
        "    \"refrigerator\", \"book\", \"clock\", \"vase\", \"scissors\", \"teddy bear\",\n",
        "    \"hair drier\", \"toothbrush\"\n",
        "]\n",
        "relabeling_classes = [\n",
        "    \"bird\", \"cat\", \"dog\", \"horse\", \"sheep\",\n",
        "    \"cow\", \"elephant\", \"bear\", \"zebra\", \"giraffe\"\n",
        "]\n",
        "\n",
        "labeling_classes = [\n",
        "    \"bird\", \"cat\", \"dog\", \"horse\", \"sheep\",\n",
        "    \"cow\", \"elephant\", \"bear\", \"zebra\", \"giraffe\"\n",
        "]\n",
        "'''\n",
        "#shrink relabeling classes to 3 for faster training.\n",
        "relabeling_classes = [\n",
        "    \"cat\", \"dog\", \"horse\"\n",
        "]\n",
        "\n",
        "# this is used to export the class list to the converted yolov4 format data.\n",
        "\n",
        "labeling_classes = [\n",
        "    \"cat\", \"dog\", \"horse\"\n",
        "]"
      ]
    },
    {
      "cell_type": "code",
      "execution_count": null,
      "metadata": {
        "id": "uLeFN2dnjp_W"
      },
      "outputs": [],
      "source": [
        "def dwonload_dataset(class_name, max_samples):\n",
        "\n",
        "  dataset = foz.load_zoo_dataset( # Load a dataset from the zoo using foz.load_zoo_dataset() function\n",
        "      \"coco-2017\",\n",
        "      splits=[\"train\"],\n",
        "      classes= class_name,        # Specify the name of the dataset as \"coco-2017\"\n",
        "      max_samples= max_samples   # Specify the maximum number of samples to load from the dataset based on the provided max_samples argument\n",
        "  )\n",
        "  dataset.persistent = True       # Set the persistent attribute of the dataset to True, indicating that it should be saved and loaded from disk if necessary\n",
        "\n",
        "  return dataset"
      ]
    },
    {
      "cell_type": "code",
      "execution_count": null,
      "metadata": {
        "id": "2-q1n0QDjp_W"
      },
      "outputs": [],
      "source": [
        "def clone_and_split_test(dataset, class_name):\n",
        "\n",
        "  class_dataset = dataset.clone()  # Clone the original dataset\n",
        "  class_dataset.persistent = True  # Set the persistent flag to True, indicating that the cloned dataset should persist in memory\n",
        "\n",
        "  class_test_dataset = dataset.clone()  # Clone the original dataset\n",
        "  class_test_dataset.persistent = True  # Set the persistent flag to True, indicating that the cloned dataset should persist in memory\n",
        "\n",
        "  class_dataset_view = class_dataset.filter_labels(\"ground_truth\", F(\"label\").is_in([class_name])).limit(1000)  # Create a view of the class_dataset, filtered by the given class_name and limited to 1000 samples\n",
        "\n",
        "  class_test_view = class_test_dataset.filter_labels(\"ground_truth\", F(\"label\").is_in([class_name])).skip(1000)  # Create a view of the class_test_dataset, filtered by the given class_name and skipping the first 1000 samples\n",
        "\n",
        "  return class_dataset_view.clone(), class_test_view.clone()  # Return the cloned views of the class_dataset and class_test_dataset\n"
      ]
    },
    {
      "cell_type": "code",
      "execution_count": null,
      "metadata": {
        "id": "MhJp9zIcjp_X"
      },
      "outputs": [],
      "source": [
        "def merge_dataset(dataset, class_name):\n",
        "\n",
        "  temp1 = dataset.clone()  # Create a clone of the dataset and store it in 'temp1' variable\n",
        "  temp = temp1.filter_labels(\"ground_truth\", F(\"label\").is_in([\"cat\"]))  # Filter the dataset to include only samples with the label \"cat\" in the \"ground_truth\" field, and store the result in 'temp' variable\n",
        "\n",
        "  for sample in temp.select_fields('tags').iter_samples(autosave=True):  # Iterate over each sample in 'temp' dataset, selecting only the 'tags' field, and enabling autosave\n",
        "    sample.set_field('tags', ['train'])  # Set the 'tags' field of the current sample to ['train']\n",
        "\n",
        "  temp.keep()  # Remove any intermediate data and keep only the modified dataset 'temp'\n",
        "\n",
        "  return temp.clone()  # Return a clone of the modified dataset 'temp'\n"
      ]
    },
    {
      "cell_type": "code",
      "execution_count": null,
      "metadata": {
        "id": "suO6HzAmjp_X"
      },
      "outputs": [],
      "source": [
        "def resize_dataset(dataset, percentage):\n",
        "\n",
        "  print(len(dataset))  # Print the length of the dataset to check its initial size\n",
        "  temp = dataset.take(int(len(dataset) * percentage/100))  # Take a portion of the dataset based on the given percentage\n",
        "\n",
        "  return temp.clone()  # Return a copy of the extracted portion of the dataset\n"
      ]
    },
    {
      "cell_type": "code",
      "execution_count": null,
      "metadata": {
        "id": "dTaNhXdhjp_Y"
      },
      "outputs": [],
      "source": [
        "def resplit(dataset, percentage):\n",
        "\n",
        "  total_len = len(dataset)  # Calculate the total length of the dataset\n",
        "  train_len = int(total_len * percentage / 100)  # Calculate the length of the training set based on the percentage\n",
        "  val_len = total_len - train_len  # Calculate the length of the validation set by subtracting the training set length from the total length\n",
        "\n",
        "  print('train:', train_len, ' validiation:', val_len, ' total:', total_len)  # Print the lengths of the training set, validation set, and total dataset\n",
        "\n",
        "  train_set = dataset.limit(train_len)  # Limit the dataset to the length of the training set to create the training set\n",
        "  val_set = dataset.skip(train_len).limit(val_len)  # Skip the training set length and limit the dataset to the length of the validation set to create the validation set\n",
        "\n",
        "\n",
        "  for sample in train_set.select_fields('tags').iter_samples(autosave=True):\n",
        "    sample.set_field('tags', ['train'])  # Set the 'tags' field of each sample in the training set to ['train']\n",
        "\n",
        "  for sample in val_set.select_fields('tags').iter_samples(autosave=True):\n",
        "    sample.set_field('tags', ['validation'])  # Set the 'tags' field of each sample in the validation set to ['validation']\n",
        "\n",
        "  return train_set.clone(), val_set.clone()  # Return the cloned versions of the training set and validation set\n"
      ]
    },
    {
      "cell_type": "code",
      "execution_count": null,
      "metadata": {
        "id": "G2rUnEhvjp_Y"
      },
      "outputs": [],
      "source": [
        "def add_label_error(dataset, percentage, class_name):\n",
        "\n",
        "  total_len = len(dataset)\n",
        "  label_error_len = int(total_len * percentage / 100)\n",
        "  error_free_len = total_len - label_error_len\n",
        "\n",
        "  # randomly split the dataset into error and error free sets using the given ratio\n",
        "  label_error_set = dataset.limit(label_error_len)\n",
        "  error_free_set = dataset.skip(label_error_len).limit(error_free_len)\n",
        "\n",
        "  # Check if there are three relabeling classes and remove the specified class\n",
        "  if (len(relabeling_classes)==3):\n",
        "    relabeling_classes.remove(class_name)\n",
        "\n",
        "  # Iterate over each sample in the label error set\n",
        "  for sample in label_error_set.iter_samples(autosave=True):\n",
        "\n",
        "    # Iterate over each detection in the sample's ground truth\n",
        "    for detection in sample.ground_truth.detections:\n",
        "      # Generate a new label randomly from the relabeling classes\n",
        "      new_label = random.choice(relabeling_classes)\n",
        "      # Check if the detection label is the specified class\n",
        "      if detection.label == class_name:\n",
        "        # Assign the new label to the detection\n",
        "        detection.label = new_label\n",
        "        # Print the new label\n",
        "        print(new_label)\n",
        "\n",
        "    # Save the modified sample\n",
        "    sample.save()\n",
        "\n",
        "  # Save the label error set\n",
        "  label_error_set.save()\n",
        "\n",
        "  # Print the number of images with label errors\n",
        "  print(\"number of images with label errors = \", len(label_error_set))\n",
        "\n",
        "  # Concatenate the label error set and error-free set\n",
        "  concat_data_set = label_error_set.concat(error_free_set)\n",
        "  # Shuffle the concatenated dataset\n",
        "  shuffled_data = concat_data_set.shuffle()\n",
        "\n",
        "  # Check if there are two relabeling classes and insert the specified class at the beginning\n",
        "  if (len(relabeling_classes)==2):\n",
        "    relabeling_classes.insert(0, class_name)\n",
        "\n",
        "  # Return a clone of the shuffled dataset\n",
        "  return shuffled_data.clone()\n"
      ]
    },
    {
      "cell_type": "code",
      "execution_count": null,
      "metadata": {
        "id": "N-cdj5yljp_Z"
      },
      "outputs": [],
      "source": [
        "def generateDataset(dataset, class_name, size, resplit_percent):\n",
        "\n",
        "  resized_dataset = resize_dataset(dataset, size)  # Resizing the original dataset to a specific size\n",
        "  label_error_dataset = add_label_error(resized_dataset, error_rate, class_name)  # Adding label errors to the resized dataset\n",
        "  train_set, val_set = resplit(label_error_dataset, resplit_percent)  # Splitting the dataset into training and validation sets\n",
        "\n",
        "  return train_set, val_set\n"
      ]
    },
    {
      "cell_type": "code",
      "execution_count": null,
      "metadata": {
        "id": "fmBSB8Bvjp_Z"
      },
      "outputs": [],
      "source": [
        "class_name = 'cat'                                                    #select the desired class to be downloaded from coco data-set\n",
        "max_samples = 4000                                                    #define the number of images.\n",
        "dataset = dwonload_dataset(class_name, max_samples)                   #downloading the data-set.\n",
        "\n",
        "# split the datase into 1000 images as training set and 3000 as test set.\n",
        "# the test set should be used to test all the ML models.\n",
        "\n",
        "train_dataset, test_data = clone_and_split_test(dataset, class_name)\n"
      ]
    },
    {
      "cell_type": "markdown",
      "source": [
        "# step 2- Prepare training and valiation data sets"
      ],
      "metadata": {
        "id": "8QMvDunsjp_a"
      }
    },
    {
      "cell_type": "code",
      "execution_count": null,
      "metadata": {
        "id": "uiGRffMDjp_a"
      },
      "outputs": [],
      "source": [
        "\n",
        "#the foolowing code will produce the desired data set\n",
        "#change the variabels of size, resplit.., error rate to produce the desired data set\n",
        "\n",
        "\n",
        "exp_name = \"E2D30\"\n",
        "\n",
        "size = 30                               # Represents the size of the dataset, will be used for resizing\n",
        "                                        # the dataset by a percentage value.\n",
        "\n",
        "resplit_precent = 80                    # Determines the percentage of the original dataset to be used for\n",
        "                                        # training data. The remaining percentage will be used for validation.\n",
        "\n",
        "error_rate = 0                          # Represents the error rate to be added to the dataset.\n",
        "\n",
        "train_data, val_data = generateDataset(train_dataset, class_name, size, resplit_precent)\n",
        "                                        # Calls the function generateDataset to generate the training and\n",
        "                                        # validation datasets. The parameters passed are train_dataset (the\n",
        "                                        # original dataset), class_name (the name of the class), size (used\n",
        "                                        # for resizing), and resplit_precent (used for splitting the dataset).\n"
      ]
    },
    {
      "cell_type": "code",
      "execution_count": null,
      "metadata": {
        "id": "ZtrTuDJ7jp_b"
      },
      "outputs": [],
      "source": [
        "#the foolowing code will print a report showing the main modification on the data set.\n",
        "\n",
        "'''\n",
        "print(\"length of training set = \",len(train_data))    # Prints the length of the training set\n",
        "print(\"length of validation set = \",len(val_data))    # Prints the length of the validation set\n",
        "print(\"length of test set = \",len(test_data))          # Prints the length of the test set\n",
        "print(\"********************************************\")\n",
        "\n",
        "i = 0                                                 # Initializes a counter variable i with 0\n",
        "\n",
        "for sample in val_data:                               # Iterates through each sample in the val_data\n",
        "  i += 1                                              # Increments the counter i by 1 for each iteration\n",
        "\n",
        "  #print(i , '- ', sample.ground_truth.detections, ' - ', sample.tags)\n",
        "  # The above line is commented out, so it does not execute\n",
        "\n",
        "  print(i , '- ', sample.ground_truth.detections[0].label, ' - ', sample.tags)\n",
        "  # Prints the index (i), the label of the first detection in the ground truth of the sample, and the tags of the sample\n",
        "\n",
        "print(\"********************************************\")\n",
        "print(\"length of training set = \",len(train_data))    # Prints the length of the training set\n",
        "print(\"length of validation set = \",len(val_data))    # Prints the length of the validation set\n",
        "\n",
        "'''"
      ]
    },
    {
      "cell_type": "markdown",
      "source": [
        "The folder structure for the Darknet YOLOv4 data is as follows:\n",
        "\n",
        "\n",
        "![image.png](data:image/png;base64,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)"
      ],
      "metadata": {
        "id": "8vxQpsk0jp_b"
      }
    },
    {
      "cell_type": "code",
      "source": [
        "\n",
        "# The following code will clear the data and cfg folder from unnecessary files\n",
        "\n",
        "%cp -r /content/darknet/data /content/darknet/data_backup         # Creates a backup of the 'data' directory\n",
        "%rm -rf /content/darknet/data/                                    # Deletes the 'data' directory\n",
        "%mkdir -p /content/darknet/data/                                  # Recreates the 'data' directory\n",
        "%cp -r /content/darknet/data_backup/labels /content/darknet/data  # Copies the 'labels' directory from the backup to the new 'data' directory\n",
        "%rm -rf /content/darknet/cfg                                      # Deletes the 'cfg' directory\n",
        "%mkdir -p /content/darknet/cfg                                    # Creates an empty 'cfg' directory\n",
        "%rm -rf /content/darknet/data_backup                              # Deletes the backup of the 'data' directory\n"
      ],
      "metadata": {
        "id": "nK2y0y_gjp_d"
      },
      "execution_count": null,
      "outputs": []
    },
    {
      "cell_type": "code",
      "execution_count": null,
      "metadata": {
        "id": "LL1QpIu5jp_e"
      },
      "outputs": [],
      "source": [
        "\n",
        "#convering training data set to yolov4 format and saving to /darknet/data\n",
        "\n",
        "# Set the export directory where the dataset will be saved\n",
        "export_dir = \"/content/darknet/data\"\n",
        "\n",
        "# Set the path to the data folder\n",
        "data_path = \"/content/darknet/data/obj\"\n",
        "\n",
        "# Set the path to the labels folder\n",
        "labels_path = \"/content/darknet/data/obj\"\n",
        "\n",
        "# Set the path to the text file containing image paths\n",
        "images_path = \"/content/darknet/train.txt\"\n",
        "\n",
        "# Specify the label field name in the dataset or view\n",
        "label_field = \"ground_truth\"\n",
        "\n",
        "# Specify the dataset or view to export\n",
        "dataset_or_view = train_data\n",
        "\n",
        "# Export the dataset to the specified export directory\n",
        "dataset_or_view.export(\n",
        "    export_dir=export_dir,\n",
        "    dataset_type=fo.types.YOLOv4Dataset,\n",
        "    label_field=label_field,\n",
        "    classes=labeling_classes,\n",
        "    data_path=data_path,\n",
        "    labels_path=labels_path,\n",
        "    images_path=images_path,\n",
        ")\n",
        "\n",
        "# Move the train.txt file to the data folder\n",
        "!mv /content/darknet/train.txt /content/darknet/data/train.txt"
      ]
    },
    {
      "cell_type": "code",
      "execution_count": null,
      "metadata": {
        "id": "D8-FF_gbjp_e"
      },
      "outputs": [],
      "source": [
        "\n",
        "#convering validiation data set to yolov4 format and saving to /darknet/data\n",
        "\n",
        "export_dir = \"/content/darknet/data\"\n",
        "data_path = \"/content/darknet/data/obj\"\n",
        "labels_path = \"/content/darknet/data/obj\"\n",
        "images_path = \"/content/darknet/val.txt\"\n",
        "label_field = \"ground_truth\"\n",
        "\n",
        "# The dataset or view to export\n",
        "dataset_or_view = val_data\n",
        "\n",
        "# Export the dataset\n",
        "dataset_or_view.export(\n",
        "    export_dir=export_dir,\n",
        "    dataset_type=fo.types.YOLOv4Dataset,\n",
        "    label_field=label_field,\n",
        "    classes= labeling_classes,\n",
        "    data_path = data_path,\n",
        "    labels_path = labels_path,\n",
        "    images_path = images_path,\n",
        ")\n",
        "\n",
        "!mv /content/darknet/val.txt /content/darknet/data/val.txt"
      ]
    },
    {
      "cell_type": "code",
      "execution_count": null,
      "metadata": {
        "id": "6s9sBz6kjp_f"
      },
      "outputs": [],
      "source": [
        "# At this stage, the following three files are required:\n",
        "\n",
        "# 1. yolo-obj.cfg: This file serves as the configuration file for training.\n",
        "!wget -P /content/darknet/cfg https://github.com/adammuntasir/Data-Annotation-Process-and-ML-Model-Performance/raw/main/Config/cfg/yolo-obj.cfg\n",
        "# 2. yolo-obj-test.cfg: This file is the configuration file specifically designed for testing.\n",
        "!wget -P /content/darknet/cfg https://github.com/adammuntasir/Data-Annotation-Process-and-ML-Model-Performance/raw/main/Config/cfg/yolo-obj-test.cfg\n",
        "# 3. obj.data: This file stores essential information and settings.\n",
        "!wget -P /content/darknet/data https://github.com/adammuntasir/Data-Annotation-Process-and-ML-Model-Performance/raw/main/Config/obj.data\n"
      ]
    },
    {
      "cell_type": "code",
      "execution_count": null,
      "metadata": {
        "id": "wovxTB6gjp_f"
      },
      "outputs": [],
      "source": [
        "# will show folders sizes.\n",
        "!du -sh /content/darknet/data\n",
        "!du -sh /content/data/{exp_name}\n",
        "!du -sh /content/terminal/{exp_name}.zip"
      ]
    },
    {
      "cell_type": "code",
      "source": [
        "# the content of the obj.data file is as follows:\n",
        "#classes = 3                    # number of classes should matach across all the dtatsets.\n",
        "#train  = data/train.txt\n",
        "#valid  = data/val.txt\n",
        "#names = data/obj.names\n",
        "#backup = /mimer/NOBACKUP/groups/naiss2023-22-457/Experiments_results/E3D10L0/weights     # this line will specify the path where the trained model will be saved.\n",
        "\n",
        "#specify the number of classes\n",
        "!sed -i 's/^classes = .*/classes = 3/' /content/darknet/data/obj.data\n",
        "\n",
        "#change the backup path to your desired path.\n",
        "!sed -i 's@^backup = /mimer/NOBACKUP/groups/naiss2023-22-457/.*@backup = /mimer/NOBACKUP/groups/naiss2023-22-457/Experiments_results/{exp_name}/weights@' /content/darknet/data/obj.data\n",
        "\n",
        "#print the updated file.\n",
        "!cat /content/darknet/data/obj.data\n"
      ],
      "metadata": {
        "id": "_f0ApjW2jp_g"
      },
      "execution_count": null,
      "outputs": []
    },
    {
      "cell_type": "markdown",
      "source": [
        "#Export training and validiation sets - optional.\n",
        "If you're planning to train on a different high-performance computing (HPC) platform rather than Google Colab, you can use the following three cells to export the dataset to your Google Drive. Then, download and unzip it to your preferred location."
      ],
      "metadata": {
        "id": "nN6MbsM7FfES"
      }
    },
    {
      "cell_type": "code",
      "execution_count": null,
      "metadata": {
        "id": "TKu54-_Pjp_g"
      },
      "outputs": [],
      "source": [
        "!mkdir -p /content/terminal\n",
        "!mkdir -p /content/data/{exp_name}/data\n",
        "!mkdir -p /content/data/{exp_name}/cfg\n",
        "!mkdir -p /content/data/{exp_name}/weights\n",
        "!cp -r /content/darknet/data /content/data/{exp_name}\n",
        "!cp -r /content/darknet/cfg /content/data/{exp_name}\n",
        "#!mv /content/data/{exp_name}.zip /content/terminal/{exp_name}\n",
        "#!cp -r /content/terminal/{exp_name}.zip /content/gdrive/MyDrive/Colab_Notebooks/Experiments_results/"
      ]
    },
    {
      "cell_type": "code",
      "source": [
        "!pwd\n",
        "%cd /content/data/\n",
        "!zip -r /content/terminal/{exp_name}.zip ./{exp_name}/*\n",
        "%cd /content/darknet/data\n"
      ],
      "metadata": {
        "id": "knONyQTZjp_h"
      },
      "execution_count": null,
      "outputs": []
    },
    {
      "cell_type": "code",
      "execution_count": null,
      "metadata": {
        "id": "3Iptflw1jp_h"
      },
      "outputs": [],
      "source": [
        "\n",
        "# Fill in the desired path in your Google Drive.\n",
        "!cp -r /content/terminal/{exp_name}.zip /content/gdrive/MyDrive/Colab_Notebooks/Experiments_results/\n"
      ]
    },
    {
      "cell_type": "code",
      "execution_count": null,
      "metadata": {
        "id": "_QO7plS6jp_h"
      },
      "outputs": [],
      "source": [
        "#!rm -rf /content/data/{exp_name}\n",
        "#!rm -rf /content/terminal/{exp_name}.zip"
      ]
    },
    {
      "cell_type": "markdown",
      "source": [
        "#PREPARE TEST DATA\n",
        "the test data is made of one class \"cat\" an consist of 3000 images."
      ],
      "metadata": {
        "id": "5v2ED_9Kjp_i"
      }
    },
    {
      "cell_type": "code",
      "source": [
        "!rm -rf /content/darknet/testData\n",
        "!rm -rf /content/darknet/cfg\n",
        "!rm -rf /content/data/testData\n",
        "!rm -rf /content/terminal/testData.zip\n",
        "!mkdir -p /content/darknet/testData/labels/ && cp -r /content/darknet/data/labels /content/darknet/testData/\n",
        "!mkdir -p /content/darknet/cfg"
      ],
      "metadata": {
        "id": "v_aJ5B0sjp_i"
      },
      "execution_count": null,
      "outputs": []
    },
    {
      "cell_type": "code",
      "execution_count": null,
      "metadata": {
        "id": "7O1vNnakjp_i"
      },
      "outputs": [],
      "source": [
        "\n",
        "#convering test data set to yolov4 format and saving to /darknet/testData\n",
        "export_dir = \"/content/darknet/testData\"\n",
        "data_path = \"/content/darknet/testData/obj\"\n",
        "labels_path = \"/content/darknet/testData/obj\"\n",
        "images_path = \"/content/darknet/test.txt\"\n",
        "label_field = \"ground_truth\"  # for example\n",
        "\n",
        "# The dataset or view to export\n",
        "dataset_or_view = test_data\n",
        "\n",
        "# Export the dataset\n",
        "dataset_or_view.export(\n",
        "    export_dir=export_dir,\n",
        "    dataset_type=fo.types.YOLOv4Dataset,\n",
        "    label_field=label_field,\n",
        "    classes= labeling_classes,\n",
        "    data_path = data_path,\n",
        "    labels_path = labels_path,\n",
        "    images_path = images_path,\n",
        ")\n",
        "\n",
        "!mv /content/darknet/test.txt /content/darknet/testData/test.txt"
      ]
    },
    {
      "cell_type": "code",
      "execution_count": null,
      "metadata": {
        "id": "xrdknUufjp_j"
      },
      "outputs": [],
      "source": [
        "# At this stage, the following three files are required:\n",
        "\n",
        "# 1. yolo-obj.cfg: This file serves as the configuration file for training.\n",
        "!wget -P /content/darknet/cfg https://github.com/adammuntasir/Data-Annotation-Process-and-ML-Model-Performance/raw/main/Config/cfg/yolo-obj.cfg\n",
        "# 2. yolo-obj-test.cfg: This file is the configuration file specifically designed for testing.\n",
        "!wget -P /content/darknet/cfg https://github.com/adammuntasir/Data-Annotation-Process-and-ML-Model-Performance/raw/main/Config/cfg/yolo-obj-test.cfg\n",
        "# 3. obj.data: This file stores essential information and settings.\n",
        "!wget -P /content/darknet/testData https://github.com/adammuntasir/Data-Annotation-Process-and-ML-Model-Performance/raw/main/Config/obj.data"
      ]
    },
    {
      "cell_type": "code",
      "execution_count": null,
      "metadata": {
        "id": "rLD9lM2vjp_j"
      },
      "outputs": [],
      "source": [
        "# will show the folder size\n",
        "!du -sh /content/darknet/testData\n",
        "!du -sh /content/data/testData\n",
        "!du -sh /content/terminal/testData.zip"
      ]
    },
    {
      "cell_type": "code",
      "execution_count": null,
      "metadata": {
        "colab": {
          "base_uri": "https://localhost:8080/"
        },
        "outputId": "8853fa1a-d2e3-4b0b-99cb-57d368c6b7a7",
        "id": "fhvJQYqqjp_k"
      },
      "outputs": [
        {
          "output_type": "stream",
          "name": "stdout",
          "text": [
            "classes = 3\n",
            "train  = testData/test.txt\n",
            "valid  = testData/test.txt\n",
            "names = testData/obj.names\n",
            "backup = /mimer/NOBACKUP/groups/naiss2023-22-457/Experiments_results/testData/weights"
          ]
        }
      ],
      "source": [
        "\n",
        "exp_name = \"testData\"\n",
        "\n",
        "!sed -i 's/^classes = .*/classes = 3/' /content/darknet/testData/obj.data\n",
        "!sed -i 's@^train  =.*@train  = testData/test.txt@' /content/darknet/testData/obj.data\n",
        "!sed -i 's@^valid  =.*@valid  = testData/test.txt@' /content/darknet/testData/obj.data\n",
        "!sed -i 's@^names = .*@names = testData/obj.names@' /content/darknet/testData/obj.data\n",
        "!sed -i 's@^backup = /mimer/NOBACKUP/groups/naiss2023-22-457/.*@backup = /mimer/NOBACKUP/groups/naiss2023-22-457/Experiments_results/{exp_name}/weights@' /content/darknet/testData/obj.data\n",
        "!cat /content/darknet/testData/obj.data"
      ]
    },
    {
      "cell_type": "markdown",
      "source": [
        "#Export test data set -optional.\n",
        "use the following three cells to export the dataset to your Google Drive. Then, download and unzip it to your preferred location."
      ],
      "metadata": {
        "id": "pYgSuIYBSi23"
      }
    },
    {
      "cell_type": "code",
      "execution_count": null,
      "metadata": {
        "id": "P36Ci4jsjp_k"
      },
      "outputs": [],
      "source": [
        "!mkdir -p /content/terminal\n",
        "!mkdir -p /content/data/{exp_name}/{exp_name}\n",
        "!mkdir -p /content/data/{exp_name}/cfg\n",
        "!mkdir -p /content/data/{exp_name}/weights\n",
        "!cp -r /content/darknet/testData /content/data/{exp_name}\n",
        "!cp -r /content/darknet/cfg /content/data/{exp_name}\n",
        "#!mv /content/data/{exp_name}.zip /content/terminal/{exp_name}\n",
        "#!cp -r /content/terminal/{exp_name}.zip /content/gdrive/MyDrive/Colab_Notebooks/Experiments_results/"
      ]
    },
    {
      "cell_type": "code",
      "source": [
        "!pwd\n",
        "%cd /content/data/\n",
        "!zip -r /content/terminal/{exp_name}.zip ./{exp_name}/*\n",
        "%cd /content/darknet/data"
      ],
      "metadata": {
        "id": "R7sg-KZCjp_l"
      },
      "execution_count": null,
      "outputs": []
    },
    {
      "cell_type": "code",
      "execution_count": null,
      "metadata": {
        "id": "D9-NMi2Vjp_l"
      },
      "outputs": [],
      "source": [
        "!cp -r /content/terminal/{exp_name}.zip /content/gdrive/MyDrive/Colab_Notebooks/Experiments_results/"
      ]
    },
    {
      "cell_type": "markdown",
      "source": [
        "# Configuring cfg Files for Training and Testing\n",
        "\n",
        "In order to train and test your object detector, you will need to make some changes to the `yolo-obj.cfg` file. Follow the instructions below based on the number of classes you have.\n",
        "\n",
        "## For Training:\n",
        "\n",
        "1. Open the `yolo-obj.cfg` file and edit it according to your object detector requirements. By default, it is already configured for three object classes. If you have a different number of classes, follow these steps to configure it:\n",
        "\n",
        "2. Change the values of `batch` and `subdivisions` to:\n",
        "   ```\n",
        "   batch = 64\n",
        "   subdivisions = 16\n",
        "   ```\n",
        "\n",
        "3. Set the `width` and `height` to any multiple of 32. The standard value is `416`, but you can experiment with larger values like `608` for potentially improved results. However, note that larger values will slow down the training process. Example:\n",
        "   ```\n",
        "   width = 416\n",
        "   height = 416\n",
        "   ```\n",
        "\n",
        "4. Calculate the value of `max_batches` based on the number of classes:\n",
        "   ```\n",
        "   max_batches = (# of classes) * 2000\n",
        "   ```\n",
        "   Make sure `max_batches` is not less than 6000. For example, if you are training for 1, 2, or 3 classes, set `max_batches` to 6000. However, if you are training for 5 classes, set `max_batches` to 10000.\n",
        "\n",
        "5. Determine the values of `steps` for learning rate decay:\n",
        "   ```\n",
        "   steps = (80% of max_batches), (90% of max_batches)\n",
        "   ```\n",
        "   For example, if `max_batches` is 10000, then `steps` would be 8000 and 9000.\n",
        "\n",
        "6. Calculate the value of `filters` based on the number of classes:\n",
        "   ```\n",
        "   filters = (# of classes + 5) * 3\n",
        "   ```\n",
        "   For example, if you are training for one class, `filters` would be 18. If you are training for 4 classes, `filters` would be 27.\n",
        "\n",
        "## For Testing:\n",
        "\n",
        "1. The `yolo-obj-test.cfg` file is already configured for three classes. If you have a different number of classes, follow these steps:\n",
        "\n",
        "2. Change the values of `batch` and `subdivisions` to:\n",
        "   ```\n",
        "   batch = 1\n",
        "   subdivisions = 1\n",
        "   ```\n",
        "\n",
        "3. The rest of the configuration remains the same for testing.\n",
        "\n",
        "Make sure to save the changes to the respective configuration files (`yolo-obj.cfg` for training and `yolo-obj-test.cfg` for testing) after making the necessary modifications."
      ],
      "metadata": {
        "id": "SHAzLhILULXO"
      }
    },
    {
      "cell_type": "markdown",
      "metadata": {
        "id": "wIVozkjqjp_m"
      },
      "source": [
        "# Download pre-trained YOLOv4 weights and build.\n",
        "YOLOv4 has already been trained on the COCO dataset, which consists of 80 classes that it can predict. By downloading these pre-trained weights, we can use them for transfer learning, reducing the time required for training."
      ]
    },
    {
      "cell_type": "code",
      "execution_count": null,
      "metadata": {
        "id": "JHGRBd5njp_m"
      },
      "outputs": [],
      "source": [
        "\n",
        "!wget -P /content/darknet/ https://github.com/AlexeyAB/darknet/releases/download/darknet_yolo_v3_optimal/yolov4.conv.137\n"
      ]
    },
    {
      "cell_type": "code",
      "execution_count": null,
      "metadata": {
        "id": "HBuzDbBOjp_m"
      },
      "outputs": [],
      "source": [
        "# change makefile to have GPU and OPENCV enabled\n",
        "%cd /content/darknet\n",
        "!sed -i 's/OPENCV=0/OPENCV=1/' Makefile\n",
        "!sed -i 's/GPU=0/GPU=1/' Makefile\n",
        "!sed -i 's/CUDNN=0/CUDNN=1/' Makefile\n",
        "!sed -i 's/CUDNN_HALF=0/CUDNN_HALF=1/' Makefile"
      ]
    },
    {
      "cell_type": "code",
      "execution_count": null,
      "metadata": {
        "id": "cKFYfrM2jp_n"
      },
      "outputs": [],
      "source": [
        "# CUDA: Let's check that Nvidia CUDA drivers are already pre-installed and which version is it.\n",
        "!/usr/local/cuda/bin/nvcc --version\n",
        "\n",
        "!nvidia-smi\n",
        "# We need to install the correct cuDNN according to this output"
      ]
    },
    {
      "cell_type": "code",
      "execution_count": null,
      "metadata": {
        "id": "nzlYuUcujp_n"
      },
      "outputs": [],
      "source": [
        "# make darknet (builds darknet so that you can then use the darknet executable file to run or train object detectors)\n",
        "!make"
      ]
    },
    {
      "cell_type": "markdown",
      "metadata": {
        "id": "U7gs1E_cjp_n"
      },
      "source": [
        "# Train Your Custom Object Detector!\n",
        "\n",
        "Congratulations! You've reached the moment of truth where you can train your custom YOLOv4 object detector for the classes you've chosen. To begin the training process, execute the following command:\n",
        "\n",
        "```\n",
        "!./darknet detector train <path to obj.data> <path to custom config> yolov4.conv.137 -dont_show -map\n",
        "```\n",
        "\n",
        "Please note the following flags used in the command:\n",
        "\n",
        "- The `-dont_show` flag prevents the chart from popping up during training since Colab Notebook cannot display images in real-time.\n",
        "- If you have a validation dataset and want to overlay the mean average precision on the chart to monitor the accuracy of your model, you can add the `-map` flag.\n",
        "\n",
        "Make sure to replace `<path to obj.data>` with the path to your `obj.data` file and `<path to custom config>` with the path to your custom configuration file.\n",
        "\n",
        "Happy training!\n",
        "\n",
        "\n",
        "**TIP:** This training could take several hours depending on how many iterations you chose in the .cfg file. You will want to let this run as you sleep or go to work for the day, etc. However, Colab Cloud Service kicks you off it's VMs if you are idle for too long (30-90 mins).\n",
        "\n",
        "To avoid this hold (CTRL + SHIFT + i) at the same time to open up the inspector view on your browser.\n",
        "\n",
        "Paste the following code into your console window and hit **Enter**\n",
        "```\n",
        "function ClickConnect(){\n",
        "console.log(\"Working\");\n",
        "document\n",
        "  .querySelector('#top-toolbar > colab-connect-button')\n",
        "  .shadowRoot.querySelector('#connect')\n",
        "  .click()\n",
        "}\n",
        "setInterval(ClickConnect,60000)\n",
        "```\n",
        "Looks like this, it will click the screen every 10 minutes so that you don't get kicked off for being idle! HACKS!\n",
        "\n",
        "## Resuming Training from the Last Checkpoint\n",
        "\n",
        "In case your training gets interrupted for any reason, you have the option to resume training from where it left off. To do so, follow these steps:\n",
        "\n",
        "1. Locate the backup folder where your training checkpoints are stored.\n",
        "2. Identify the last model checkpoint in the backup folder.\n",
        "3. Replace the file `yolov4.conv.137` with the last model checkpoint file.\n",
        "\n",
        "By replacing `yolov4.conv.137` with the last model checkpoint, you ensure that the training resumes from the correct point and continues the progress from there. This way, you can avoid starting the training process from scratch.\n",
        "\n",
        "Make sure to maintain the original naming convention for the checkpoint file to ensure compatibility with the training script."
      ]
    },
    {
      "cell_type": "code",
      "execution_count": null,
      "metadata": {
        "id": "HQLaWUe9jp_o"
      },
      "outputs": [],
      "source": [
        "!./darknet detector train data/obj.data cfg/yolo-obj.cfg yolov4.conv.137 -dont_show -map"
      ]
    },
    {
      "cell_type": "markdown",
      "source": [
        "# Testing:\n",
        "\n",
        "By default, Darknet saves a weight file every 1000 iterations. It also saves the best weight file, which corresponds to the one with the highest mean average precision (mAP). Additionally, the last weight file is saved after completing all the iterations.\n",
        "\n",
        "For the convenience of this thesis, we only tested using the best and last weights. We considered the results from the last weight for analysis and drawing conclusions."
      ],
      "metadata": {
        "id": "RkiYf2apfn2K"
      }
    },
    {
      "cell_type": "code",
      "source": [
        "# first specify the path to your weigh file that is going to be used for testing\n",
        "path_to_Weight= f\\\"/mimer/NOBACKUP/groups/naiss2023-22-457/Experiments_results/{exp_name}/weights/yolo-obj_\\\""
      ],
      "metadata": {
        "id": "CSM8JvCjc2qd"
      },
      "execution_count": null,
      "outputs": []
    },
    {
      "cell_type": "code",
      "source": [
        "#testing training data set using best weights.\n",
        "!./darknet detector map data/obj.data cfg/yolo-obj.cfg {path_to_Weight}best.weights"
      ],
      "metadata": {
        "id": "TqCfE8Vfh4X0"
      },
      "execution_count": null,
      "outputs": []
    },
    {
      "cell_type": "code",
      "source": [
        "#testing training data set using final weights.\n",
        "!./darknet detector map data/obj.data cfg/yolo-obj.cfg {path_to_Weight}final.weights"
      ],
      "metadata": {
        "id": "ymRiPkXFh-qa"
      },
      "execution_count": null,
      "outputs": []
    },
    {
      "cell_type": "code",
      "source": [
        "#testing test data set using best weights.\n",
        "!./darknet detector map testData/obj.data cfg/yolo-obj.cfg {path_to_Weight}best.weights"
      ],
      "metadata": {
        "id": "X8CT_Qnnibiw"
      },
      "execution_count": null,
      "outputs": []
    },
    {
      "cell_type": "code",
      "source": [
        "#testing test data set using final weights.\n",
        "!./darknet detector map testData/obj.data cfg/yolo-obj.cfg {path_to_Weight}final.weights"
      ],
      "metadata": {
        "id": "tm68ilDNinBW"
      },
      "execution_count": null,
      "outputs": []
    }
  ],
  "metadata": {
    "colab": {
      "provenance": []
    },
    "gpuClass": "standard",
    "kernelspec": {
      "display_name": "Python 3",
      "name": "python3"
    },
    "language_info": {
      "name": "python"
    }
  },
  "nbformat": 4,
  "nbformat_minor": 0
}